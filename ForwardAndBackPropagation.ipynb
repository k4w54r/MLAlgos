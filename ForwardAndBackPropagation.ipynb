{
  "nbformat": 4,
  "nbformat_minor": 0,
  "metadata": {
    "colab": {
      "name": "ForwardAndBackPropagation.ipynb",
      "provenance": [],
      "toc_visible": true,
      "authorship_tag": "ABX9TyNYLpCxxTKDBi4A/s+5od2Q",
      "include_colab_link": true
    },
    "kernelspec": {
      "name": "python3",
      "display_name": "Python 3"
    },
    "language_info": {
      "name": "python"
    }
  },
  "cells": [
    {
      "cell_type": "markdown",
      "metadata": {
        "id": "view-in-github",
        "colab_type": "text"
      },
      "source": [
        "<a href=\"https://colab.research.google.com/github/k4w54r/MLAlgos/blob/master/ForwardAndBackPropagation.ipynb\" target=\"_parent\"><img src=\"https://colab.research.google.com/assets/colab-badge.svg\" alt=\"Open In Colab\"/></a>"
      ]
    },
    {
      "cell_type": "code",
      "metadata": {
        "id": "QFiVNaiWZqBD"
      },
      "source": [
        "import numpy as np"
      ],
      "execution_count": 1,
      "outputs": []
    },
    {
      "cell_type": "markdown",
      "metadata": {
        "id": "ViDn9gRAvj8u"
      },
      "source": [
        ""
      ]
    },
    {
      "cell_type": "markdown",
      "metadata": {
        "id": "l_YSrLJhocDp"
      },
      "source": [
        "#Forward Propagation:"
      ]
    },
    {
      "cell_type": "code",
      "metadata": {
        "id": "eQ9ybJHnogY7"
      },
      "source": [
        "\n",
        "\n",
        "def forwardPropagation(X, W1, b1, W2, b2):\n",
        "    Z1 = np.dot(W1, X) + b1\n",
        "    A1 = np.maximum(0, Z1)\n",
        "    Z2 = np.dot(W2, A1) + b2\n",
        "    A2 = 1/(1+np.exp(-Z2))\n",
        "\n",
        "    values = {\"Z1\": Z1, \"A1\": A1, \"Z2\": Z2, \"A2\": A2}\n",
        "    return A2, values\n"
      ],
      "execution_count": 2,
      "outputs": []
    },
    {
      "cell_type": "markdown",
      "metadata": {
        "id": "tzQFJwjHonlp"
      },
      "source": [
        "#Back Propagation:\n"
      ]
    },
    {
      "cell_type": "code",
      "metadata": {
        "id": "zqx3iXx3ossa"
      },
      "source": [
        "def backPropagation(W1, b1, W2, b2, values):\n",
        "    \n",
        "    A2 = values['A2']\n",
        "\n",
        "    dZ2 = A2 - Y\n",
        "\n",
        "    A1 = values['A1']\n",
        "\n",
        "    dW2 = (1 / m) * np.dot(dZ2, A1.T)\n",
        "\n",
        "    db2 = (1 / m) * np.sum(dZ2, axis = 1, keepdims = True)\n",
        "  \n",
        "    dZ1 = np.multiply(np.dot(W2.T, dZ2), 1 - np.power(A1, 2))\n",
        "\n",
        "    dW1 = (1 / m) * np.dot(dZ1, X.T)\n",
        "\n",
        "    db1 = (1 / m) * np.sum(dZ1, axis = 1, keepdims = True)\n",
        "      \n",
        "\n",
        "    W1 = W1 - learning_rate * dW1\n",
        "    b1 = b1 - learning_rate * db1\n",
        "    W2 = W2 - learning_rate * dW2\n",
        "    b2 = b2 - learning_rate * db2\n",
        "  \n",
        "    return W1, W2, b1, b2"
      ],
      "execution_count": 3,
      "outputs": []
    },
    {
      "cell_type": "code",
      "metadata": {
        "id": "mZIaVWhRo9fD"
      },
      "source": [
        "X = np.random.rand(2,20)*100\n",
        "Y = np.random.rand(1,20)*65\n",
        "\n",
        "W1 = np.random.randn(4, 2) * 0.001\n",
        "b1 = np.zeros(shape =(4, 1))\n",
        "\n",
        "W2 = np.random.randn(1, 4) * 0.01\n",
        "b2 = np.zeros(shape =(1, 1))\n",
        "\n",
        "m = X.shape[1]\n",
        "\n",
        "learning_rate = 0.5\n",
        "\n",
        "A2, values = forwardPropagation(X, W1, b1, W2, b2)\n",
        "\n",
        "W1, W2, b1, b2 = backPropagation(W1, b1, W2, b2, values)\n",
        "\n"
      ],
      "execution_count": 4,
      "outputs": []
    }
  ]
}