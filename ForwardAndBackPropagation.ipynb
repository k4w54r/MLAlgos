{
  "nbformat": 4,
  "nbformat_minor": 0,
  "metadata": {
    "colab": {
      "name": "ForwardAndBackPropagation.ipynb",
      "provenance": [],
      "toc_visible": true,
      "authorship_tag": "ABX9TyO2bKqNAWvIfGGW65ZSCoDx",
      "include_colab_link": true
    },
    "kernelspec": {
      "name": "python3",
      "display_name": "Python 3"
    },
    "language_info": {
      "name": "python"
    }
  },
  "cells": [
    {
      "cell_type": "markdown",
      "metadata": {
        "id": "view-in-github",
        "colab_type": "text"
      },
      "source": [
        "<a href=\"https://colab.research.google.com/github/k4w54r/MLAlgos/blob/master/ForwardAndBackPropagation.ipynb\" target=\"_parent\"><img src=\"https://colab.research.google.com/assets/colab-badge.svg\" alt=\"Open In Colab\"/></a>"
      ]
    },
    {
      "cell_type": "code",
      "metadata": {
        "id": "QFiVNaiWZqBD"
      },
      "source": [
        "import numpy as np"
      ],
      "execution_count": null,
      "outputs": []
    },
    {
      "cell_type": "markdown",
      "metadata": {
        "id": "ViDn9gRAvj8u"
      },
      "source": [
        ""
      ]
    },
    {
      "cell_type": "markdown",
      "metadata": {
        "id": "l_YSrLJhocDp"
      },
      "source": [
        "#Forward Propagation:"
      ]
    },
    {
      "cell_type": "code",
      "metadata": {
        "id": "eQ9ybJHnogY7"
      },
      "source": [
        "\n",
        "\n",
        "def forwardPropagation(X, W1, b1, W2, b2):\n",
        "    Z1 = np.dot(W1, X) + b1\n",
        "    A1 = np.maximum(0, Z1)\n",
        "    Z2 = np.dot(W2, A1) + b2\n",
        "    A2 = 1/(1+np.exp(-Z2))\n",
        "\n",
        "    values = {\"Z1\": Z1, \"A1\": A1, \"Z2\": Z2, \"A2\": A2}\n",
        "    return A2, values\n"
      ],
      "execution_count": null,
      "outputs": []
    },
    {
      "cell_type": "markdown",
      "metadata": {
        "id": "tzQFJwjHonlp"
      },
      "source": [
        "#Back Propagation:\n"
      ]
    },
    {
      "cell_type": "code",
      "metadata": {
        "id": "zqx3iXx3ossa"
      },
      "source": [
        "def backPropagation(W1, b1, W2, b2, values):\n",
        "    \n",
        "    A2 = values['A2']\n",
        "\n",
        "    dZ2 = A2 - Y\n",
        "\n",
        "    A1 = values['A1']\n",
        "\n",
        "    dW2 = (1 / m) * np.dot(dZ2, A1.T)\n",
        "\n",
        "    db2 = (1 / m) * np.sum(dZ2, axis = 1, keepdims = True)\n",
        "  \n",
        "    dZ1 = np.multiply(np.dot(W2.T, dZ2), 1 - np.power(A1, 2))\n",
        "\n",
        "    dW1 = (1 / m) * np.dot(dZ1, X.T)\n",
        "\n",
        "    db1 = (1 / m) * np.sum(dZ1, axis = 1, keepdims = True)\n",
        "      \n",
        "\n",
        "    W1 = W1 - learning_rate * dW1\n",
        "    b1 = b1 - learning_rate * db1\n",
        "    W2 = W2 - learning_rate * dW2\n",
        "    b2 = b2 - learning_rate * db2\n",
        "  \n",
        "    return W1, W2, b1, b2"
      ],
      "execution_count": null,
      "outputs": []
    },
    {
      "cell_type": "code",
      "metadata": {
        "colab": {
          "base_uri": "https://localhost:8080/"
        },
        "id": "mZIaVWhRo9fD",
        "outputId": "dcb2d099-a148-4c22-c57c-3ad6c9dff78b"
      },
      "source": [
        "X = np.random.rand(2,20)*100\n",
        "Y = np.random.rand(1,20)*65\n",
        "\n",
        "W1 = np.random.randn(4, 2) * 0.001\n",
        "b1 = np.zeros(shape =(4, 1))\n",
        "\n",
        "W2 = np.random.randn(1, 4) * 0.01\n",
        "b2 = np.zeros(shape =(1, 1))\n",
        "\n",
        "m = X.shape[1]\n",
        "\n",
        "learning_rate = 0.5\n",
        "\n",
        "A2, values = forwardPropagation(X, W1, b1, W2, b2)\n",
        "print(A2)\n",
        "print(values)\n",
        "W1, W2, b1, b2 = backPropagation(W1, b1, W2, b2, values)\n",
        "\n",
        "print(W1)\n",
        "print(W2)\n",
        "print(b1)\n",
        "print(b2)"
      ],
      "execution_count": null,
      "outputs": [
        {
          "output_type": "stream",
          "text": [
            "[[0.49999515 0.5        0.49999968 0.5        0.49999985 0.5\n",
            "  0.5        0.5        0.49999726 0.5        0.5        0.5\n",
            "  0.5        0.49999801 0.49999801 0.49999377 0.5        0.5\n",
            "  0.5        0.5       ]]\n",
            "{'Z1': array([[-0.06199835, -0.05860968, -0.07534457, -0.15038374, -0.09793045,\n",
            "        -0.04757119, -0.04397391, -0.06204033, -0.05108738, -0.08934962,\n",
            "        -0.12748338, -0.13773111, -0.07950618, -0.09801421, -0.11047461,\n",
            "        -0.08566407, -0.01957012, -0.07559547, -0.02124827, -0.09173389],\n",
            "       [-0.04388497, -0.02849261, -0.03779994, -0.06235174, -0.04836555,\n",
            "        -0.02098655, -0.00615814, -0.01225992, -0.0326414 , -0.02673318,\n",
            "        -0.05051385, -0.05867813, -0.01215449, -0.05355232, -0.05963744,\n",
            "        -0.05931015, -0.00263558, -0.00484371, -0.00073622, -0.02049172],\n",
            "       [ 0.05338095, -0.00083521,  0.00355255, -0.04460735,  0.00159496,\n",
            "        -0.00912565, -0.06071204, -0.07155416,  0.03008847, -0.06721731,\n",
            "        -0.04706461, -0.03464657, -0.10574079,  0.02191009,  0.02184147,\n",
            "         0.06852082, -0.02743392, -0.12704199, -0.03817719, -0.0964683 ],\n",
            "       [-0.07883386, -0.0744322 , -0.09569327, -0.19090513, -0.12437357,\n",
            "        -0.06039842, -0.05573659, -0.07866115, -0.0649349 , -0.11335151,\n",
            "        -0.16181746, -0.17485445, -0.10078074, -0.1245167 , -0.14034116,\n",
            "        -0.10891647, -0.02480423, -0.09577566, -0.02691602, -0.11632659]]), 'A1': array([[0.        , 0.        , 0.        , 0.        , 0.        ,\n",
            "        0.        , 0.        , 0.        , 0.        , 0.        ,\n",
            "        0.        , 0.        , 0.        , 0.        , 0.        ,\n",
            "        0.        , 0.        , 0.        , 0.        , 0.        ],\n",
            "       [0.        , 0.        , 0.        , 0.        , 0.        ,\n",
            "        0.        , 0.        , 0.        , 0.        , 0.        ,\n",
            "        0.        , 0.        , 0.        , 0.        , 0.        ,\n",
            "        0.        , 0.        , 0.        , 0.        , 0.        ],\n",
            "       [0.05338095, 0.        , 0.00355255, 0.        , 0.00159496,\n",
            "        0.        , 0.        , 0.        , 0.03008847, 0.        ,\n",
            "        0.        , 0.        , 0.        , 0.02191009, 0.02184147,\n",
            "        0.06852082, 0.        , 0.        , 0.        , 0.        ],\n",
            "       [0.        , 0.        , 0.        , 0.        , 0.        ,\n",
            "        0.        , 0.        , 0.        , 0.        , 0.        ,\n",
            "        0.        , 0.        , 0.        , 0.        , 0.        ,\n",
            "        0.        , 0.        , 0.        , 0.        , 0.        ]]), 'Z2': array([[-1.94192669e-05,  0.00000000e+00, -1.29237018e-06,\n",
            "         0.00000000e+00, -5.80224765e-07,  0.00000000e+00,\n",
            "         0.00000000e+00,  0.00000000e+00, -1.09457764e-05,\n",
            "         0.00000000e+00,  0.00000000e+00,  0.00000000e+00,\n",
            "         0.00000000e+00, -7.97059346e-06, -7.94563090e-06,\n",
            "        -2.49269443e-05,  0.00000000e+00,  0.00000000e+00,\n",
            "         0.00000000e+00,  0.00000000e+00]]), 'A2': array([[0.49999515, 0.5       , 0.49999968, 0.5       , 0.49999985,\n",
            "        0.5       , 0.5       , 0.5       , 0.49999726, 0.5       ,\n",
            "        0.5       , 0.5       , 0.5       , 0.49999801, 0.49999801,\n",
            "        0.49999377, 0.5       , 0.5       , 0.5       , 0.5       ]])}\n",
            "[[-14.5887364  -12.92196301]\n",
            " [ 11.05597135   9.7933461 ]\n",
            " [ -0.3022774   -0.27001944]\n",
            " [ 15.8491584   14.03836694]]\n",
            "[[-0.01749405  0.01325923  0.17730558  0.01900779]]\n",
            "[[-0.26607405]\n",
            " [ 0.20166487]\n",
            " [-0.00553019]\n",
            " [ 0.28909711]]\n",
            "[[15.20939871]]\n"
          ],
          "name": "stdout"
        }
      ]
    }
  ]
}